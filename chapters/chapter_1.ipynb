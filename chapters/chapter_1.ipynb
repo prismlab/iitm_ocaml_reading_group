{
 "cells": [
  {
   "cell_type": "code",
   "execution_count": 1,
   "id": "bb83ea0a-9619-4042-bfa1-6b9f4e518569",
   "metadata": {},
   "outputs": [
    {
     "data": {
      "text/plain": [
       "val x : unit = ()\n"
      ]
     },
     "execution_count": 1,
     "metadata": {},
     "output_type": "execute_result"
    }
   ],
   "source": [
    "let x = ();;"
   ]
  }
 ],
 "metadata": {
  "kernelspec": {
   "display_name": "OCaml 4.14",
   "language": "OCaml",
   "name": "ocaml-jupyter"
  },
  "language_info": {
   "codemirror_mode": "text/x-ocaml",
   "file_extension": ".ml",
   "mimetype": "text/x-ocaml",
   "name": "OCaml",
   "nbconverter_exporter": null,
   "pygments_lexer": "OCaml",
   "version": "4.14.2"
  }
 },
 "nbformat": 4,
 "nbformat_minor": 5
}
